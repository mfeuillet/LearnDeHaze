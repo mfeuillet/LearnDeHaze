{
 "cells": [
  {
   "cell_type": "markdown",
   "metadata": {},
   "source": [
    "# AUTOENCODER NETWORK"
   ]
  },
  {
   "cell_type": "markdown",
   "metadata": {},
   "source": [
    "# M. FEUILLET 2021"
   ]
  },
  {
   "cell_type": "markdown",
   "metadata": {},
   "source": [
    "## Setting up some cleaning functions and the GPU usage"
   ]
  },
  {
   "cell_type": "code",
   "execution_count": 1,
   "metadata": {
    "pycharm": {
     "is_executing": true,
     "name": "#%% \n"
    }
   },
   "outputs": [],
   "source": [
    "from keras import backend as K\n",
    "K.clear_session()\n",
    "try:\n",
    "    from numba import cuda\n",
    "    cuda.select_device(0)\n",
    "    cuda.close()\n",
    "    import gc\n",
    "    gc.enable()\n",
    "except:\n",
    "    print(\"An exception occurred, probably from numba of gc. Make sure you have those installed, or pass!\")\n",
    "    "
   ]
  },
  {
   "cell_type": "code",
   "execution_count": 2,
   "metadata": {
    "colab": {
     "base_uri": "https://localhost:8080/"
    },
    "id": "STRfwYhzC725",
    "outputId": "88b4afc6-c1f8-456b-d6ac-8f8c90efa049",
    "pycharm": {
     "is_executing": true
    }
   },
   "outputs": [
    {
     "name": "stdout",
     "output_type": "stream",
     "text": [
      "Found GPU at: /device:GPU:0\n"
     ]
    }
   ],
   "source": [
    "import numpy as np\n",
    "import matplotlib.pyplot as plt\n",
    "import tensorflow as tf\n",
    "\n",
    "\n",
    "device_name = tf.test.gpu_device_name()\n",
    "if device_name != '/device:GPU:0':\n",
    "  raise SystemError('GPU device not found')\n",
    "print('Found GPU at: {}'.format(device_name))\n",
    "\n",
    "#We limit GPU usage \n",
    "\n",
    "\n",
    "physical_devices = tf.config.list_physical_devices('GPU')\n",
    "try:\n",
    "    tf.config.experimental.set_per_process_gpu_memory_fraction=0.85\n",
    "except:\n",
    "  # Invalid device or cannot modify virtual devices once initialized.\n",
    "  pass "
   ]
  },
  {
   "cell_type": "markdown",
   "metadata": {},
   "source": [
    "# Define SSIM loss function "
   ]
  },
  {
   "cell_type": "code",
   "execution_count": 5,
   "metadata": {
    "pycharm": {
     "is_executing": true,
     "name": "#%%\n"
    }
   },
   "outputs": [],
   "source": [
    "# Loss function\n",
    "def ssim_loss(y_true, y_pred):\n",
    "  return tf.reduce_mean(tf.image.ssim(y_true, y_pred, 2.0))"
   ]
  },
  {
   "cell_type": "markdown",
   "metadata": {},
   "source": [
    "## Define FLIP Loss"
   ]
  },
  {
   "cell_type": "code",
   "execution_count": 4,
   "metadata": {},
   "outputs": [
    {
     "ename": "ModuleNotFoundError",
     "evalue": "No module named 'flip'",
     "output_type": "error",
     "traceback": [
      "\u001b[1;31m---------------------------------------------------------------------------\u001b[0m",
      "\u001b[1;31mModuleNotFoundError\u001b[0m                       Traceback (most recent call last)",
      "\u001b[1;32m<ipython-input-4-b737c6fe547a>\u001b[0m in \u001b[0;36m<module>\u001b[1;34m\u001b[0m\n\u001b[0;32m     34\u001b[0m \u001b[1;31m# code by Pontus Andersson, Jim Nilsson, and Tomas Akenine-Moller\u001b[0m\u001b[1;33m\u001b[0m\u001b[1;33m\u001b[0m\u001b[0m\n\u001b[0;32m     35\u001b[0m \u001b[1;33m\u001b[0m\u001b[0m\n\u001b[1;32m---> 36\u001b[1;33m \u001b[1;32mfrom\u001b[0m \u001b[0mflip\u001b[0m \u001b[1;32mimport\u001b[0m \u001b[0mcompute_flip\u001b[0m\u001b[1;33m\u001b[0m\u001b[0m\n\u001b[0m\u001b[0;32m     37\u001b[0m \u001b[1;32mfrom\u001b[0m \u001b[0mutils\u001b[0m \u001b[1;32mimport\u001b[0m \u001b[1;33m*\u001b[0m\u001b[1;33m\u001b[0m\u001b[0m\n\u001b[0;32m     38\u001b[0m \u001b[1;33m\u001b[0m\u001b[0m\n",
      "\u001b[1;31mModuleNotFoundError\u001b[0m: No module named 'flip'"
     ]
    }
   ],
   "source": [
    "#########################################################################\n",
    "# Copyright (c) 2020, NVIDIA CORPORATION. All rights reserved.\n",
    "#\n",
    "# Redistribution and use in source and binary forms, with or without\n",
    "# modification, are permitted provided that the following conditions\n",
    "# are met:\n",
    "#  * Redistributions of source code must retain the above copyright\n",
    "#    notice, this list of conditions and the following disclaimer.\n",
    "#  * Redistributions in binary form must reproduce the above copyright\n",
    "#    notice, this list of conditions and the following disclaimer in the\n",
    "#    documentation and/or other materials provided with the distribution.\n",
    "#  * Neither the name of NVIDIA CORPORATION nor the names of its\n",
    "#    contributors may be used to endorse or promote products derived\n",
    "#    from this software without specific prior written permission.\n",
    "#\n",
    "# THIS SOFTWARE IS PROVIDED BY THE COPYRIGHT HOLDERS ``AS IS'' AND ANY\n",
    "# EXPRESS OR IMPLIED WARRANTIES, INCLUDING, BUT NOT LIMITED TO, THE\n",
    "# IMPLIED WARRANTIES OF MERCHANTABILITY AND FITNESS FOR A PARTICULAR\n",
    "# PURPOSE ARE DISCLAIMED.  IN NO EVENT SHALL THE COPYRIGHT OWNER OR\n",
    "# CONTRIBUTORS BE LIABLE FOR ANY DIRECT, INDIRECT, INCIDENTAL, SPECIAL,\n",
    "# EXEMPLARY, OR CONSEQUENTIAL DAMAGES (INCLUDING, BUT NOT LIMITED TO,\n",
    "# PROCUREMENT OF SUBSTITUTE GOODS OR SERVICES; LOSS OF USE, DATA, OR\n",
    "# PROFITS; OR BUSINESS INTERRUPTION) HOWEVER CAUSED AND ON ANY THEORY\n",
    "# OF LIABILITY, WHETHER IN CONTRACT, STRICT LIABILITY, OR TORT\n",
    "# (INCLUDING NEGLIGENCE OR OTHERWISE) ARISING IN ANY WAY OUT OF THE USE\n",
    "# OF THIS SOFTWARE, EVEN IF ADVISED OF THE POSSIBILITY OF SUCH DAMAGE.\n",
    "#########################################################################\n",
    "\n",
    "# FLIP: A Difference Evaluator for Alternating Images\n",
    "# High Performance Graphics, 2020.\n",
    "# by Pontus Andersson, Jim Nilsson, Tomas Akenine-Moller, Magnus Oskarsson, Kalle Astrom, and Mark D. Fairchild\n",
    "#\n",
    "# Pointer to our paper: https://research.nvidia.com/publication/2020-07_FLIP\n",
    "# code by Pontus Andersson, Jim Nilsson, and Tomas Akenine-Moller\n",
    "\n",
    "from flip import compute_flip\n",
    "from utils import *\n",
    "\n",
    "def flip_loss(true,pred):\n",
    "\t# Set viewing conditions\n",
    "\tmonitor_distance = 0.7\n",
    "\tmonitor_width = 0.7\n",
    "\tmonitor_resolution_x = 128*128\n",
    "\t\n",
    "\t# Compute number of pixels per degree of visual angle\n",
    "\tpixels_per_degree = monitor_distance * (monitor_resolution_x / monitor_width) * (np.pi / 180)\n",
    "\t\n",
    "\t# Load sRGB images\n",
    "\treference = HWCtoCHW(true)\n",
    "\ttest = HWCtoCHW(pred)\n",
    "\n",
    "\t# Compute FLIP map\n",
    "\tdeltaE = compute_flip(reference, test, pixels_per_degree)\n",
    "\n",
    "\t# Save error map\n",
    "\tindex_map = np.floor(255.0 * deltaE.squeeze(0))\n",
    "\n",
    "\tuse_color_map =False # change if want the image\n",
    "\tif use_color_map:\n",
    "\t\tresult = CHWtoHWC(index2color(index_map, get_magma_map()))\n",
    "\telse:\n",
    "\t\tresult = index_map / 255.0\n",
    "\treturn(result)\n"
   ]
  },
  {
   "cell_type": "markdown",
   "metadata": {},
   "source": [
    "## Load images from files. Choose number by using number argument"
   ]
  },
  {
   "cell_type": "code",
   "execution_count": 5,
   "metadata": {
    "colab": {
     "base_uri": "https://localhost:8080/"
    },
    "id": "ppuuWGEnElS7",
    "outputId": "9f87e402-d179-47ea-e6e4-2efb2e32abbe",
    "pycharm": {
     "is_executing": true
    }
   },
   "outputs": [],
   "source": [
    "import cv2\n",
    "import glob\n",
    "#from google.colab.patches import cv2_imshow\n",
    "\n",
    "\n",
    "\n",
    "def cargar_imagenes(source=1,number=10):\n",
    "    y=0\n",
    "    x=0\n",
    "    h=128\n",
    "    w=128\n",
    "    if source==1:\n",
    "        numberphotos= number\n",
    "        globe=glob.glob(\"../images/train1/*.png\") + glob.glob('../images/train1/*.jpg')+ glob.glob('../images/train1/*.jpeg')\n",
    "        globee=glob.glob(\"../images/pred1/*.png\") + glob.glob('../images/pred1/*.jpg')+ glob.glob('../images/pred1/*.jpeg')\n",
    "    elif source==2:\n",
    "        numberphotos= number\n",
    "        globe=glob.glob(\"../images/train2/*.png\") + glob.glob('../images/train2/*.jpg')+ glob.glob('../images/train2/*.jpeg')\n",
    "        globee=glob.glob(\"../images/pred2/*.png\") + glob.glob('../images/pred2/*.jpg')+ glob.glob('../images/pred2/*.jpeg')\n",
    "    else:\n",
    "        numberphotos= number\n",
    "        globe=glob.glob(\"../images/train3/*.png\") + glob.glob('../images/train3/*.jpg')+ glob.glob('../images/train3/*.jpeg')\n",
    "        globee=glob.glob(\"../images/pred3/*.png\") + glob.glob('../images/pred3/*.jpg')+ glob.glob('../images/pred3/*.jpeg')\n",
    "        \n",
    "    \n",
    "    Xtrain=np.zeros((numberphotos,h,w,3))\n",
    "    Ytrain=np.zeros((numberphotos,h,w,3))\n",
    "    i=0 # counter\n",
    "    \n",
    "    for file in globe:\n",
    "      if i<numberphotos:\n",
    "        img=cv2.imread(file)\n",
    "        #Crop\n",
    "        if img.shape[0]>=256 or img.shape[1]>=256:\n",
    "            center=np.array(img.shape)//2\n",
    "            img=img[center[0]-128:center[0]+129,center[1]-128:center[1]+129]\n",
    "        Xtrain[i] = cv2.resize(img,(h,w))\n",
    "        Xtrain[i] = Xtrain[i].astype('float32')/255\n",
    "        i+=1\n",
    "        if i%1000==0:\n",
    "            print(str(i)+\"loaded\")\n",
    "            \n",
    "            \n",
    "    i=0 # counter\n",
    "    for file in globee:\n",
    "      if i<numberphotos:\n",
    "        img=cv2.imread(file)\n",
    "        if img.shape[0]>=256 or img.shape[1]>=256:\n",
    "            center=np.array(img.shape)//2\n",
    "            img=img[center[0]-128:center[0]+129,center[1]-128:center[1]+129]\n",
    "        Ytrain[i] = cv2.resize(img,(h,w))\n",
    "        Ytrain[i] = Ytrain[i].astype('float32')/255\n",
    "        i+=1\n",
    "        if i%1000==0:\n",
    "            print(str(numberphotos+i)+\"loaded\")\n",
    "    \n",
    "\n",
    "    print(\"data downloaded\")\n",
    "    return Xtrain,Ytrain\n",
    "\n"
   ]
  },
  {
   "cell_type": "code",
   "execution_count": 6,
   "metadata": {
    "pycharm": {
     "is_executing": true
    },
    "scrolled": true
   },
   "outputs": [
    {
     "name": "stdout",
     "output_type": "stream",
     "text": [
      "1000loaded\n",
      "2000loaded\n",
      "3000loaded\n",
      "4000loaded\n",
      "5000loaded\n",
      "6000loaded\n",
      "7000loaded\n",
      "8400loaded\n",
      "9400loaded\n",
      "10400loaded\n",
      "11400loaded\n",
      "12400loaded\n",
      "13400loaded\n",
      "14400loaded\n",
      "data downloaded\n",
      "1000loaded\n",
      "2000loaded\n",
      "3000loaded\n",
      "4361loaded\n",
      "5361loaded\n",
      "6361loaded\n",
      "data downloaded\n",
      "1000loaded\n",
      "2000loaded\n",
      "3000loaded\n",
      "4000loaded\n",
      "5000loaded\n",
      "6000loaded\n",
      "7000loaded\n",
      "8000loaded\n",
      "9706loaded\n",
      "10706loaded\n",
      "11706loaded\n",
      "12706loaded\n",
      "13706loaded\n",
      "14706loaded\n",
      "15706loaded\n",
      "16706loaded\n",
      "data downloaded\n"
     ]
    },
    {
     "data": {
      "image/png": "[encoded data removed]",
      "text/plain": [
       "<Figure size 432x288 with 2 Axes>"
      ]
     },
     "metadata": {
      "needs_background": "light"
     },
     "output_type": "display_data"
    }
   ],
   "source": [
    "from sklearn.model_selection import train_test_split\n",
    "X,Y=cargar_imagenes(1)\n",
    "\n",
    "\n",
    "XX,YY=cargar_imagenes(2)\n",
    "\n",
    "XXX,YYY=cargar_imagenes(3)\n",
    "\n",
    "\n",
    "# See if loading worked.\n",
    "plt.subplot(2,1,1)\n",
    "plt.imshow(X[1])\n",
    "plt.subplot(2,1,2)\n",
    "plt.imshow(Y[1] )\n",
    "plt.show()"
   ]
  },
  {
   "cell_type": "markdown",
   "metadata": {},
   "source": [
    "## Definition of model"
   ]
  },
  {
   "cell_type": "code",
   "execution_count": 2,
   "metadata": {
    "colab": {
     "base_uri": "https://localhost:8080/"
    },
    "id": "M1ANixJ2D2Ot",
    "outputId": "318aac8a-6036-461b-c3a0-1b380d675def",
    "pycharm": {
     "is_executing": true
    }
   },
   "outputs": [],
   "source": [
    "import keras\n",
    "from keras.layers import MaxPooling2D,  BatchNormalization, Conv2D,UpSampling2D,Conv2DTranspose,Dropout,Concatenate\n",
    "from keras.models import Sequential,Model,Input\n",
    "from keras.optimizers import Adam\n",
    "from keras.activations import relu\n",
    "\n",
    "def activ(x):\n",
    "    #define bounded relu\n",
    "    return(relu(x,max_value=1))\n",
    "\n",
    "\n",
    "def autoencoder():\n",
    "    \n",
    "    \n",
    "    input=Input(shape=(128,128,3))\n",
    "\n",
    "    #small shapes autoencoder\n",
    "    conv11=Conv2D(64*3, (1, 1), activation=activ,padding='same')(input)\n",
    "    norm11=BatchNormalization()(conv11)\n",
    "    samp11=MaxPooling2D((4,4), padding='same')(norm11)\n",
    "    drop1=Dropout(.15)(samp11)\n",
    "    conv21=Conv2D(64, (1,1), activation=activ,padding='same')(drop1)\n",
    "    samp21=MaxPooling2D((4,4), padding='same')(conv21)\n",
    "    up21=UpSampling2D((4, 4))(samp21)\n",
    "    conv31=Conv2DTranspose(64, (1,1), activation=activ,padding='same')(up21)\n",
    "    norm21=BatchNormalization()(conv31)\n",
    "    up11=UpSampling2D((4, 4))(norm21)\n",
    "    conv41=Conv2DTranspose(64*3, (1,1), activation=activ,padding='same')(up11)\n",
    "    conv51=Conv2D(3, (3, 3), activation=activ,padding='same')(conv41)\n",
    "    \n",
    "    # Normal autoencoder\n",
    "    conv1=Conv2D(64*3, (3, 3), activation=activ,padding='same')(conv51)\n",
    "    norm1=BatchNormalization()(conv1)\n",
    "    samp1=MaxPooling2D((4,4), padding='same')(norm1)\n",
    "    drop=Dropout(.15)(samp1)\n",
    "    conv2=Conv2D(64, (3,3), activation=activ,padding='same')(drop)\n",
    "    samp2=MaxPooling2D((4,4), padding='same')(conv2)\n",
    "    up2=UpSampling2D((4, 4))(samp2)\n",
    "    conv3=Conv2DTranspose(64, (3,3), activation=activ,padding='same')(up2)\n",
    "    norm2=BatchNormalization()(conv3)\n",
    "    up1=UpSampling2D((4, 4))(norm2)\n",
    "    conv4=Conv2DTranspose(64*3, (3,3), activation=activ,padding='same')(up1)\n",
    "    conv5=Conv2D(3, (3, 3), activation=activ,padding='same')(conv4)\n",
    "    \n",
    "    # Big shapes autoencoder\n",
    "    conv19=Conv2D(64*3, (5, 5), activation=activ,padding='same')(conv51)\n",
    "    norm19=BatchNormalization()(conv19)\n",
    "    samp19=MaxPooling2D((4,4), padding='same')(norm19)\n",
    "    drop9=Dropout(.15)(samp19)\n",
    "    conv29=Conv2D(64, (5,5), activation=activ,padding='same')(drop9)\n",
    "    samp29=MaxPooling2D((4,4), padding='same')(conv29)\n",
    "    up29=UpSampling2D((4, 4))(samp2)\n",
    "    conv39=Conv2DTranspose(64, (3,3), activation=activ,padding='same')(up2)\n",
    "    norm29=BatchNormalization()(conv3)\n",
    "    up19=UpSampling2D((4, 4))(norm2)\n",
    "    conv49=Conv2DTranspose(64*3, (3,3), activation=activ,padding='same')(up1)\n",
    "    conv59=Conv2D(3, (3, 3), activation=activ,padding='same')(conv4)\n",
    "\n",
    "    \n",
    "    #Vertical convolutions\n",
    "    conv12=Conv2D(64*3, (1,3), activation=activ,padding='same')(input)\n",
    "    norm12=BatchNormalization()(conv12)\n",
    "    samp12=MaxPooling2D((4,4), padding='same')(norm12)\n",
    "    drop2=Dropout(.15)(samp12)\n",
    "    conv22=Conv2D(64, (1,3), activation=activ,padding='same')(drop2)\n",
    "    samp22=MaxPooling2D((4,4), padding='same')(conv22)\n",
    "    up22=UpSampling2D((4, 4))(samp22)\n",
    "    conv32=Conv2DTranspose(64, (3,1), activation=activ,padding='same')(up22)\n",
    "    norm22=BatchNormalization()(conv32)\n",
    "    up12=UpSampling2D((4, 4))(norm22)\n",
    "    conv42=Conv2DTranspose(64*3, (3,1), activation=activ,padding='same')(up12)\n",
    "    conv52=Conv2D(3, (3, 3), activation=activ,padding='same')(conv42)\n",
    "    \n",
    "    #horizontal convolutions\n",
    "    conv13=Conv2D(64*3, (3,1), activation=activ,padding='same')(input)\n",
    "    norm13=BatchNormalization()(conv13)\n",
    "    samp13=MaxPooling2D((4,4), padding='same')(norm13)\n",
    "    drop3=Dropout(.15)(samp13)\n",
    "    conv23=Conv2D(64, (3,1), activation=activ,padding='same')(drop3)\n",
    "    samp23=MaxPooling2D((4,4), padding='same')(conv23)\n",
    "    up23=UpSampling2D((4, 4))(samp23)\n",
    "    conv33=Conv2DTranspose(64, (1,3), activation=activ,padding='same')(up23)\n",
    "    norm23=BatchNormalization()(conv33)\n",
    "    up13=UpSampling2D((4, 4))(norm23)\n",
    "    conv43=Conv2DTranspose(64*3, (1,3), activation=activ,padding='same')(up13)\n",
    "    conv53=Conv2D(3, (3, 3), activation=activ,padding='same')(conv43)\n",
    "    \n",
    "    \n",
    "    conc=Concatenate(axis=3)([input,conv5,conv51,conv52,conv53,conv59])\n",
    "\n",
    "    conv5=Conv2D(3, (3, 3), activation=activ,padding='same')(conc)\n",
    "    opt = Adam(lr=5e-5)\n",
    "    total=Model(inputs=input,outputs=conv5)\n",
    "    total.compile(loss='mean_squared_error', optimizer= opt , metrics = [\"accuracy\",ssim_loss])\n",
    "    return(total)\n",
    "\n",
    "\n"
   ]
  },
  {
   "cell_type": "markdown",
   "metadata": {},
   "source": [
    "## Uncomment this if you want to use CPU and do not launch next, else keep as it is"
   ]
  },
  {
   "cell_type": "code",
   "execution_count": null,
   "metadata": {},
   "outputs": [],
   "source": [
    "\"\"\"with tf.device(\"/CPU:0\"):\n",
    "    model_gen = autoencoder()\n",
    "\n",
    "    model_gen.summary()\"\"\"\n"
   ]
  },
  {
   "cell_type": "code",
   "execution_count": 6,
   "metadata": {},
   "outputs": [
    {
     "name": "stdout",
     "output_type": "stream",
     "text": [
      "Model: \"model_1\"\n",
      "__________________________________________________________________________________________________\n",
      "Layer (type)                    Output Shape         Param #     Connected to                     \n",
      "==================================================================================================\n",
      "input_2 (InputLayer)            [(None, 128, 128, 3) 0                                            \n",
      "__________________________________________________________________________________________________\n",
      "conv2d_16 (Conv2D)              (None, 128, 128, 192 768         input_2[0][0]                    \n",
      "__________________________________________________________________________________________________\n",
      "batch_normalization_10 (BatchNo (None, 128, 128, 192 768         conv2d_16[0][0]                  \n",
      "__________________________________________________________________________________________________\n",
      "max_pooling2d_10 (MaxPooling2D) (None, 32, 32, 192)  0           batch_normalization_10[0][0]     \n",
      "__________________________________________________________________________________________________\n",
      "dropout_5 (Dropout)             (None, 32, 32, 192)  0           max_pooling2d_10[0][0]           \n",
      "__________________________________________________________________________________________________\n",
      "conv2d_17 (Conv2D)              (None, 32, 32, 64)   12352       dropout_5[0][0]                  \n",
      "__________________________________________________________________________________________________\n",
      "max_pooling2d_11 (MaxPooling2D) (None, 8, 8, 64)     0           conv2d_17[0][0]                  \n",
      "__________________________________________________________________________________________________\n",
      "up_sampling2d_10 (UpSampling2D) (None, 32, 32, 64)   0           max_pooling2d_11[0][0]           \n",
      "__________________________________________________________________________________________________\n",
      "conv2d_transpose_10 (Conv2DTran (None, 32, 32, 64)   4160        up_sampling2d_10[0][0]           \n",
      "__________________________________________________________________________________________________\n",
      "batch_normalization_11 (BatchNo (None, 32, 32, 64)   256         conv2d_transpose_10[0][0]        \n",
      "__________________________________________________________________________________________________\n",
      "up_sampling2d_11 (UpSampling2D) (None, 128, 128, 64) 0           batch_normalization_11[0][0]     \n",
      "__________________________________________________________________________________________________\n",
      "conv2d_transpose_11 (Conv2DTran (None, 128, 128, 192 12480       up_sampling2d_11[0][0]           \n",
      "__________________________________________________________________________________________________\n",
      "conv2d_18 (Conv2D)              (None, 128, 128, 3)  5187        conv2d_transpose_11[0][0]        \n",
      "__________________________________________________________________________________________________\n",
      "conv2d_19 (Conv2D)              (None, 128, 128, 192 5376        conv2d_18[0][0]                  \n",
      "__________________________________________________________________________________________________\n",
      "conv2d_25 (Conv2D)              (None, 128, 128, 192 1920        input_2[0][0]                    \n",
      "__________________________________________________________________________________________________\n",
      "conv2d_28 (Conv2D)              (None, 128, 128, 192 1920        input_2[0][0]                    \n",
      "__________________________________________________________________________________________________\n",
      "batch_normalization_12 (BatchNo (None, 128, 128, 192 768         conv2d_19[0][0]                  \n",
      "__________________________________________________________________________________________________\n",
      "batch_normalization_16 (BatchNo (None, 128, 128, 192 768         conv2d_25[0][0]                  \n",
      "__________________________________________________________________________________________________\n",
      "batch_normalization_18 (BatchNo (None, 128, 128, 192 768         conv2d_28[0][0]                  \n",
      "__________________________________________________________________________________________________\n",
      "max_pooling2d_12 (MaxPooling2D) (None, 32, 32, 192)  0           batch_normalization_12[0][0]     \n",
      "__________________________________________________________________________________________________\n",
      "max_pooling2d_16 (MaxPooling2D) (None, 32, 32, 192)  0           batch_normalization_16[0][0]     \n",
      "__________________________________________________________________________________________________\n",
      "max_pooling2d_18 (MaxPooling2D) (None, 32, 32, 192)  0           batch_normalization_18[0][0]     \n",
      "__________________________________________________________________________________________________\n",
      "dropout_6 (Dropout)             (None, 32, 32, 192)  0           max_pooling2d_12[0][0]           \n",
      "__________________________________________________________________________________________________\n",
      "dropout_8 (Dropout)             (None, 32, 32, 192)  0           max_pooling2d_16[0][0]           \n",
      "__________________________________________________________________________________________________\n",
      "dropout_9 (Dropout)             (None, 32, 32, 192)  0           max_pooling2d_18[0][0]           \n",
      "__________________________________________________________________________________________________\n",
      "conv2d_20 (Conv2D)              (None, 32, 32, 64)   110656      dropout_6[0][0]                  \n",
      "__________________________________________________________________________________________________\n",
      "conv2d_26 (Conv2D)              (None, 32, 32, 64)   36928       dropout_8[0][0]                  \n",
      "__________________________________________________________________________________________________\n",
      "conv2d_29 (Conv2D)              (None, 32, 32, 64)   36928       dropout_9[0][0]                  \n",
      "__________________________________________________________________________________________________\n",
      "max_pooling2d_13 (MaxPooling2D) (None, 8, 8, 64)     0           conv2d_20[0][0]                  \n",
      "__________________________________________________________________________________________________\n",
      "max_pooling2d_17 (MaxPooling2D) (None, 8, 8, 64)     0           conv2d_26[0][0]                  \n",
      "__________________________________________________________________________________________________\n",
      "max_pooling2d_19 (MaxPooling2D) (None, 8, 8, 64)     0           conv2d_29[0][0]                  \n",
      "__________________________________________________________________________________________________\n",
      "up_sampling2d_12 (UpSampling2D) (None, 32, 32, 64)   0           max_pooling2d_13[0][0]           \n",
      "__________________________________________________________________________________________________\n",
      "up_sampling2d_16 (UpSampling2D) (None, 32, 32, 64)   0           max_pooling2d_17[0][0]           \n",
      "__________________________________________________________________________________________________\n",
      "up_sampling2d_18 (UpSampling2D) (None, 32, 32, 64)   0           max_pooling2d_19[0][0]           \n",
      "__________________________________________________________________________________________________\n",
      "conv2d_transpose_12 (Conv2DTran (None, 32, 32, 64)   36928       up_sampling2d_12[0][0]           \n",
      "__________________________________________________________________________________________________\n",
      "conv2d_transpose_16 (Conv2DTran (None, 32, 32, 64)   12352       up_sampling2d_16[0][0]           \n",
      "__________________________________________________________________________________________________\n",
      "conv2d_transpose_18 (Conv2DTran (None, 32, 32, 64)   12352       up_sampling2d_18[0][0]           \n",
      "__________________________________________________________________________________________________\n",
      "batch_normalization_13 (BatchNo (None, 32, 32, 64)   256         conv2d_transpose_12[0][0]        \n",
      "__________________________________________________________________________________________________\n",
      "batch_normalization_17 (BatchNo (None, 32, 32, 64)   256         conv2d_transpose_16[0][0]        \n",
      "__________________________________________________________________________________________________\n",
      "batch_normalization_19 (BatchNo (None, 32, 32, 64)   256         conv2d_transpose_18[0][0]        \n",
      "__________________________________________________________________________________________________\n",
      "up_sampling2d_13 (UpSampling2D) (None, 128, 128, 64) 0           batch_normalization_13[0][0]     \n",
      "__________________________________________________________________________________________________\n",
      "up_sampling2d_17 (UpSampling2D) (None, 128, 128, 64) 0           batch_normalization_17[0][0]     \n",
      "__________________________________________________________________________________________________\n",
      "up_sampling2d_19 (UpSampling2D) (None, 128, 128, 64) 0           batch_normalization_19[0][0]     \n",
      "__________________________________________________________________________________________________\n",
      "conv2d_transpose_13 (Conv2DTran (None, 128, 128, 192 110784      up_sampling2d_13[0][0]           \n",
      "__________________________________________________________________________________________________\n",
      "conv2d_transpose_17 (Conv2DTran (None, 128, 128, 192 37056       up_sampling2d_17[0][0]           \n",
      "__________________________________________________________________________________________________\n",
      "conv2d_transpose_19 (Conv2DTran (None, 128, 128, 192 37056       up_sampling2d_19[0][0]           \n",
      "__________________________________________________________________________________________________\n",
      "conv2d_21 (Conv2D)              (None, 128, 128, 3)  5187        conv2d_transpose_13[0][0]        \n",
      "__________________________________________________________________________________________________\n",
      "conv2d_27 (Conv2D)              (None, 128, 128, 3)  5187        conv2d_transpose_17[0][0]        \n",
      "__________________________________________________________________________________________________\n",
      "conv2d_30 (Conv2D)              (None, 128, 128, 3)  5187        conv2d_transpose_19[0][0]        \n",
      "__________________________________________________________________________________________________\n",
      "conv2d_24 (Conv2D)              (None, 128, 128, 3)  5187        conv2d_transpose_13[0][0]        \n",
      "__________________________________________________________________________________________________\n",
      "concatenate_1 (Concatenate)     (None, 128, 128, 18) 0           input_2[0][0]                    \n",
      "                                                                 conv2d_21[0][0]                  \n",
      "                                                                 conv2d_18[0][0]                  \n",
      "                                                                 conv2d_27[0][0]                  \n",
      "                                                                 conv2d_30[0][0]                  \n",
      "                                                                 conv2d_24[0][0]                  \n",
      "__________________________________________________________________________________________________\n",
      "conv2d_31 (Conv2D)              (None, 128, 128, 3)  489         concatenate_1[0][0]              \n",
      "==================================================================================================\n",
      "Total params: 500,536\n",
      "Trainable params: 498,488\n",
      "Non-trainable params: 2,048\n",
      "__________________________________________________________________________________________________\n"
     ]
    }
   ],
   "source": [
    "model_gen = autoencoder()\n",
    "\n",
    "model_gen.summary()\n"
   ]
  },
  {
   "cell_type": "markdown",
   "metadata": {},
   "source": [
    "## Load weights"
   ]
  },
  {
   "cell_type": "code",
   "execution_count": 7,
   "metadata": {
    "colab": {
     "base_uri": "https://localhost:8080/"
    },
    "id": "gCXyhSU-FIOj",
    "outputId": "5ee049ab-74e7-4d3c-b691-f89adc11d4fe",
    "pycharm": {
     "is_executing": true
    }
   },
   "outputs": [
    {
     "data": {
      "text/plain": [
       "<tensorflow.python.training.tracking.util.CheckpointLoadStatus at 0x19c13c4cc18>"
      ]
     },
     "execution_count": 7,
     "metadata": {},
     "output_type": "execute_result"
    }
   ],
   "source": [
    "model_gen.load_weights('./weights1802')"
   ]
  },
  {
   "cell_type": "markdown",
   "metadata": {},
   "source": [
    "## Visualization of results"
   ]
  },
  {
   "cell_type": "code",
   "execution_count": 8,
   "metadata": {},
   "outputs": [
    {
     "ename": "NameError",
     "evalue": "name 'X' is not defined",
     "output_type": "error",
     "traceback": [
      "\u001b[1;31m---------------------------------------------------------------------------\u001b[0m",
      "\u001b[1;31mNameError\u001b[0m                                 Traceback (most recent call last)",
      "\u001b[1;32m<ipython-input-8-c29248cf7618>\u001b[0m in \u001b[0;36m<module>\u001b[1;34m\u001b[0m\n\u001b[0;32m     37\u001b[0m \u001b[1;33m\u001b[0m\u001b[0m\n\u001b[0;32m     38\u001b[0m \u001b[1;33m\u001b[0m\u001b[0m\n\u001b[1;32m---> 39\u001b[1;33m \u001b[1;32mfor\u001b[0m \u001b[0mi\u001b[0m \u001b[1;32min\u001b[0m \u001b[0mrange\u001b[0m\u001b[1;33m(\u001b[0m\u001b[0mlen\u001b[0m\u001b[1;33m(\u001b[0m\u001b[0mX\u001b[0m\u001b[1;33m)\u001b[0m\u001b[1;33m)\u001b[0m\u001b[1;33m:\u001b[0m\u001b[1;33m\u001b[0m\u001b[0m\n\u001b[0m\u001b[0;32m     40\u001b[0m     \u001b[0mimg\u001b[0m \u001b[1;33m=\u001b[0m \u001b[0mX\u001b[0m\u001b[1;33m[\u001b[0m\u001b[0mi\u001b[0m\u001b[1;33m]\u001b[0m\u001b[1;33m\u001b[0m\u001b[0m\n\u001b[0;32m     41\u001b[0m     \u001b[0morig\u001b[0m \u001b[1;33m=\u001b[0m \u001b[0mY\u001b[0m\u001b[1;33m[\u001b[0m\u001b[0mi\u001b[0m\u001b[1;33m]\u001b[0m\u001b[1;33m\u001b[0m\u001b[0m\n",
      "\u001b[1;31mNameError\u001b[0m: name 'X' is not defined"
     ]
    }
   ],
   "source": [
    "from time import time\n",
    "\n",
    "def visualize(img,orig,model,i):\n",
    "    \"\"\"Draws original and decoded images\"\"\"\n",
    "    t0=time()\n",
    "    code = model.predict(np.array([img]))\n",
    "\n",
    "    fig=plt.figure()\n",
    "    plt.subplot(1,4,1)\n",
    "    plt.title(\"Original\")\n",
    "    #img=cv2.cvtColor(img, cv2.COLOR_HSV2BGR) \n",
    "    #img=cv2.cvtColor(np.float32(img)*255,cv2.COLOR_LUV2BGR)\n",
    "    b,g,r=cv2.split(img)\n",
    "    img=cv2.merge([r,g,b])\n",
    "    plt.imshow(img)\n",
    "    plt.subplot(1,4,2)\n",
    "    plt.title(\"Ideal Solution\")\n",
    "    #img=cv2.cvtColor(img, cv2.COLOR_HSV2BGR) \n",
    "    #img=cv2.cvtColor(np.float32(img)*255,cv2.COLOR_LUV2BGR)\n",
    "    b,g,r=cv2.split(orig)\n",
    "    orig=cv2.merge([r,g,b])\n",
    "    plt.imshow(orig)\n",
    "    plt.subplot(1,4,3)\n",
    "    plt.title(\"Reconstructed\")\n",
    "    #res=cv2.cvtColor(code[0], cv2.COLOR_HSV2BGR)\n",
    "    #res=cv2.cvtColor(np.float32(code[0])*255, cv2.COLOR_LUV2BGR)\n",
    "    res=code[0]\n",
    "    b,g,r=cv2.split(res)\n",
    "    res=cv2.merge([r,g,b])\n",
    "    plt.imshow(res)\n",
    "    plt.subplot(1,4,4)\n",
    "    plt.title(\"FLIP difference\")\n",
    "    plt.imshow(flip_loss(orig,res))\n",
    "    plt.show()\n",
    "    fig.savefig(str(i)+\".png\")\n",
    "    print(\"time:\"+str(time()-t0))\n",
    "\n",
    "    \n",
    "for i in range(len(X)):\n",
    "    img = X[i]\n",
    "    orig = Y[i]\n",
    "    visualize(img,orig,model_gen,i)\n",
    "for i in range(len(XX)):\n",
    "    img = XX[i]\n",
    "    orig = YY[i]\n",
    "    visualize(img,orig,model_gen,i)\n",
    "for i in range(len(XXX)):\n",
    "    img = XXX[i]\n",
    "    orig = YYY[i]\n",
    "    visualize(img,orig,model_gen,i)\n",
    "    "
   ]
  }
 ],
 "metadata": {
  "accelerator": "GPU",
  "colab": {
   "collapsed_sections": [],
   "name": "GAN.ipynb",
   "provenance": []
  },
  "kernelspec": {
   "display_name": "Python 3",
   "language": "python",
   "name": "python3"
  },
  "language_info": {
   "codemirror_mode": {
    "name": "ipython",
    "version": 3
   },
   "file_extension": ".py",
   "mimetype": "text/x-python",
   "name": "python",
   "nbconvert_exporter": "python",
   "pygments_lexer": "ipython3",
   "version": "3.7.0"
  },
  "pycharm": {
   "stem_cell": {
    "cell_type": "raw",
    "metadata": {
     "collapsed": false
    },
    "source": []
   }
  }
 },
 "nbformat": 4,
 "nbformat_minor": 1
}
